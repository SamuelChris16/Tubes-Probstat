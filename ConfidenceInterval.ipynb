{
 "cells": [
  {
   "cell_type": "markdown",
   "id": "714eab64",
   "metadata": {},
   "source": [
    "One-sample confidence intervals for proportions:\n",
    "Berapa proporsi responden yang tahu istilah AI (jawaban bukan \"Tidak Tahu\")?\n",
    "(*)Confidence Level: 95%"
   ]
  },
  {
   "cell_type": "code",
   "execution_count": 1,
   "id": "a6d9733d",
   "metadata": {},
   "outputs": [
    {
     "name": "stdout",
     "output_type": "stream",
     "text": [
      "=== Confidence Interval (95%) untuk Proporsi Responden yang TAHU AI ===\n",
      "Jumlah tahu AI     : 881\n",
      "Jumlah responden   : 1000\n",
      "Proporsi sampel    : 0.8810\n",
      "Confidence Interval: (0.8609, 0.9011)\n"
     ]
    }
   ],
   "source": [
    "import pandas as pd\n",
    "from statsmodels.stats.proportion import proportion_confint\n",
    "\n",
    "# Baca data\n",
    "df = pd.read_excel(\"Dataset_Tubes.xlsx\")\n",
    "\n",
    "# Kolom yang digunakan\n",
    "ai_col = 'Sejauh_mana_Anda_mengetahui_istilah__Kecerdasan_Buatan_atau_AI_atau_Artificial_Intelligence'\n",
    "\n",
    "# Buang data kosong dan salin data\n",
    "df_ai = df.dropna(subset=[ai_col]).copy()\n",
    "\n",
    "# Bersihkan dan normalisasi teks\n",
    "df_ai[ai_col] = df_ai[ai_col].str.strip().str.lower()\n",
    "\n",
    "# Tentukan kategori yang termasuk 'tahu'\n",
    "kategori_tahu = ['sangat mengetahui dan paham', 'cukup mengetahui']\n",
    "df_ai['Tahu_AI'] = df_ai[ai_col].isin(kategori_tahu)\n",
    "\n",
    "# Hitung jumlah tahu dan total responden\n",
    "jumlah_tahu = df_ai['Tahu_AI'].sum()\n",
    "jumlah_total = len(df_ai)\n",
    "\n",
    "# Hitung confidence interval 95%\n",
    "ci_low, ci_upp = proportion_confint(jumlah_tahu, jumlah_total, alpha=0.05, method='normal')\n",
    "\n",
    "# Tampilkan hasil\n",
    "print(\"=== Confidence Interval (95%) untuk Proporsi Responden yang TAHU AI ===\")\n",
    "print(f\"Jumlah tahu AI     : {jumlah_tahu}\")\n",
    "print(f\"Jumlah responden   : {jumlah_total}\")\n",
    "print(f\"Proporsi sampel    : {jumlah_tahu / jumlah_total:.4f}\")\n",
    "print(f\"Confidence Interval: ({ci_low:.4f}, {ci_upp:.4f})\")\n"
   ]
  },
  {
   "cell_type": "markdown",
   "id": "dcaf9f71",
   "metadata": {},
   "source": [
    "One-sample confidence intervals for proportions:\n",
    "Berapa proporsi responden yang menggunakan QRIS sebagai metode pembayaran?\n",
    "(*)Confidence Level: 99%"
   ]
  },
  {
   "cell_type": "code",
   "execution_count": 21,
   "id": "7fe443e4",
   "metadata": {},
   "outputs": [
    {
     "name": "stdout",
     "output_type": "stream",
     "text": [
      "=== Confidence Interval (99%) untuk Proporsi Pengguna QRIS ===\n",
      "Jumlah pengguna QRIS : 795\n",
      "Total responden      : 1000\n",
      "Proporsi sampel      : 0.7950\n",
      "Confidence Interval  : (0.7621, 0.8279)\n"
     ]
    }
   ],
   "source": [
    "import pandas as pd\n",
    "from statsmodels.stats.proportion import proportion_confint\n",
    "\n",
    "# Baca data\n",
    "df = pd.read_excel(\"Dataset_Tubes.xlsx\")\n",
    "\n",
    "# Kolom yang digunakan\n",
    "pembayaran_col = 'Manakah_dari_metode_berikut_yang_paling_sering_Anda_gunakan_untuk_melakukan_pembayaran_transaksi'\n",
    "\n",
    "# Hapus baris dengan nilai kosong di kolom pembayaran\n",
    "df_bayar = df.dropna(subset=[pembayaran_col]).copy()\n",
    "\n",
    "# Identifikasi pengguna QRIS\n",
    "qris_user = df_bayar[pembayaran_col].str.contains('qris', case=False, na=False)\n",
    "\n",
    "# Hitung jumlah pengguna QRIS dan total sampel\n",
    "jumlah_qris = qris_user.sum()\n",
    "jumlah_total = len(df_bayar)\n",
    "\n",
    "# Hitung confidence interval 99%\n",
    "ci_low, ci_upp = proportion_confint(jumlah_qris, jumlah_total, alpha=0.01, method='normal')\n",
    "\n",
    "# Tampilkan hasil\n",
    "print(\"=== Confidence Interval (99%) untuk Proporsi Pengguna QRIS ===\")\n",
    "print(f\"Jumlah pengguna QRIS : {jumlah_qris}\")\n",
    "print(f\"Total responden      : {jumlah_total}\")\n",
    "print(f\"Proporsi sampel      : {jumlah_qris / jumlah_total:.4f}\")\n",
    "print(f\"Confidence Interval  : ({ci_low:.4f}, {ci_upp:.4f})\")\n"
   ]
  },
  {
   "cell_type": "markdown",
   "id": "55414ccc",
   "metadata": {},
   "source": [
    "Two-sample confidence intervals for proportion differences:\n",
    "Apakah terdapat perbedaan signifikan dalam proporsi penggunaan QRIS antara laki-laki dan perempuan?\n",
    "(*)Confidence Interval: 95%"
   ]
  },
  {
   "cell_type": "code",
   "execution_count": 2,
   "id": "a1dc59e7",
   "metadata": {},
   "outputs": [
    {
     "name": "stdout",
     "output_type": "stream",
     "text": [
      "=== Two-Sample CI for Difference in Proportions (QRIS, 95%) ===\n",
      "Laki-laki: 367/456 = 0.8048\n",
      "Perempuan: 428/544 = 0.7868\n",
      "Selisih proporsi: 0.0181\n",
      "Confidence Interval (95%): (-0.0320, 0.0681)\n"
     ]
    }
   ],
   "source": [
    "import pandas as pd\n",
    "from statsmodels.stats.proportion import confint_proportions_2indep\n",
    "\n",
    "# Load data\n",
    "df = pd.read_excel(\"Dataset_Tubes.xlsx\")\n",
    "\n",
    "# Normalisasi kolom\n",
    "df = df.rename(columns={\n",
    "    'Jenis_kelamin': 'Jenis_Kelamin',\n",
    "    'Manakah_dari_metode_berikut_yang_paling_sering_Anda_gunakan_untuk_melakukan_pembayaran_transaksi': 'Metode_Pembayaran'\n",
    "})\n",
    "\n",
    "# Buang data kosong\n",
    "df = df.dropna(subset=['Jenis_Kelamin', 'Metode_Pembayaran']).copy()\n",
    "df['Jenis_Kelamin'] = df['Jenis_Kelamin'].str.strip().str.lower()\n",
    "df['Metode_Pembayaran'] = df['Metode_Pembayaran'].str.strip().str.lower()\n",
    "\n",
    "# Tandai pengguna QRIS\n",
    "df['Gunakan_QRIS'] = df['Metode_Pembayaran'].str.contains('qris')\n",
    "\n",
    "# Ambil dua kelompok: laki-laki vs perempuan\n",
    "male = df[df['Jenis_Kelamin'] == 'laki-laki']\n",
    "female = df[df['Jenis_Kelamin'] == 'perempuan']\n",
    "\n",
    "# Hitung jumlah pengguna QRIS\n",
    "x1 = male['Gunakan_QRIS'].sum()\n",
    "n1 = len(male)\n",
    "\n",
    "x2 = female['Gunakan_QRIS'].sum()\n",
    "n2 = len(female)\n",
    "\n",
    "# CI untuk selisih proporsi (95%)\n",
    "ci_low, ci_upp = confint_proportions_2indep(count1=x1, nobs1=n1,\n",
    "                                            count2=x2, nobs2=n2,\n",
    "                                            method='wald', alpha=0.05)\n",
    "\n",
    "print(\"=== Two-Sample CI for Difference in Proportions (QRIS, 95%) ===\")\n",
    "print(f\"Laki-laki: {x1}/{n1} = {x1/n1:.4f}\")\n",
    "print(f\"Perempuan: {x2}/{n2} = {x2/n2:.4f}\")\n",
    "print(f\"Selisih proporsi: {(x1/n1)-(x2/n2):.4f}\")\n",
    "print(f\"Confidence Interval (95%): ({ci_low:.4f}, {ci_upp:.4f})\")\n"
   ]
  },
  {
   "cell_type": "markdown",
   "id": "3685a814",
   "metadata": {},
   "source": []
  },
  {
   "cell_type": "code",
   "execution_count": 5,
   "id": "11e1ec80",
   "metadata": {},
   "outputs": [
    {
     "name": "stdout",
     "output_type": "stream",
     "text": [
      "\n",
      "=== CI for Difference in Proporsi Pemahaman AI (S1 vs Non-S1) ===\n",
      "S1     : 282/337 = 0.8368\n",
      "Non-S1 : 599/663 = 0.9035\n",
      "Selisih proporsi: -0.0667\n",
      "Confidence Interval (99%): (-0.1264, -0.0070)\n"
     ]
    }
   ],
   "source": [
    "import pandas as pd\n",
    "from scipy.stats import norm\n",
    "import numpy as np\n",
    "\n",
    "# Load data\n",
    "df = pd.read_excel(\"Dataset_Tubes.xlsx\")\n",
    "\n",
    "df2 = df[['Pendidikan_terakhir', 'Sejauh_mana_Anda_mengetahui_istilah__Kecerdasan_Buatan_atau_AI_atau_Artificial_Intelligence']].dropna().copy()\n",
    "df2.columns = ['Pendidikan', 'Pemahaman_AI']\n",
    "df2 = df2.apply(lambda x: x.str.strip().str.lower())\n",
    "\n",
    "# Tandai responden tahu AI (sangat mengetahui dan cukup mengetahui)\n",
    "tahu_ai = df2['Pemahaman_AI'].isin(['sangat mengetahui dan paham', 'cukup mengetahui'])\n",
    "\n",
    "# Tandai S1 dan non-S1\n",
    "s1 = df2[df2['Pendidikan'] == 's1']\n",
    "non_s1 = df2[df2['Pendidikan'] != 's1']\n",
    "\n",
    "x3 = tahu_ai[s1.index].sum()\n",
    "n3 = len(s1)\n",
    "\n",
    "x4 = tahu_ai[non_s1.index].sum()\n",
    "n4 = len(non_s1)\n",
    "\n",
    "ci_low2, ci_upp2 = confint_proportions_2indep(x3, n3, x4, n4, method='wald', alpha=0.01)\n",
    "\n",
    "print(\"\\n=== CI for Difference in Proporsi Pemahaman AI (S1 vs Non-S1) ===\")\n",
    "print(f\"S1     : {x3}/{n3} = {x3/n3:.4f}\")\n",
    "print(f\"Non-S1 : {x4}/{n4} = {x4/n4:.4f}\")\n",
    "print(f\"Selisih proporsi: {(x3/n3)-(x4/n4):.4f}\")\n",
    "print(f\"Confidence Interval (99%): ({ci_low2:.4f}, {ci_upp2:.4f})\")"
   ]
  }
 ],
 "metadata": {
  "kernelspec": {
   "display_name": "env",
   "language": "python",
   "name": "python3"
  },
  "language_info": {
   "codemirror_mode": {
    "name": "ipython",
    "version": 3
   },
   "file_extension": ".py",
   "mimetype": "text/x-python",
   "name": "python",
   "nbconvert_exporter": "python",
   "pygments_lexer": "ipython3",
   "version": "3.13.2"
  }
 },
 "nbformat": 4,
 "nbformat_minor": 5
}

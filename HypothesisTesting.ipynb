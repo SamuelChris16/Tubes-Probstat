{
 "cells": [
  {
   "cell_type": "markdown",
   "id": "044ddc1a",
   "metadata": {},
   "source": [
    "One-sample z-test for proportions:\n",
    "Apakah lebih dari 50% responden menggunakan Mobile Banking?"
   ]
  },
  {
   "cell_type": "code",
   "execution_count": 16,
   "id": "6e2aaf47",
   "metadata": {},
   "outputs": [
    {
     "name": "stdout",
     "output_type": "stream",
     "text": [
      "Jumlah data responden (tidak kosong): 1000\n",
      "Jumlah responden yang menggunakan Mobile Banking: 948\n",
      "\n",
      "=== One-Sample Z-Test: Apakah pengguna aktif Mobile Banking > 50% ===\n",
      "Sample proportion: 948/1000 = 0.948\n",
      "Z-statistic: 63.808, p-value: 0.0000\n",
      ">> Tolak H0: Proporsi pengguna aktif Mobile Banking > 50% (signifikan)\n"
     ]
    }
   ],
   "source": [
    "import pandas as pd\n",
    "from statsmodels.stats.proportion import proportions_ztest\n",
    "\n",
    "# Load data\n",
    "df = pd.read_excel(\"Dataset_Tubes.xlsx\")\n",
    "\n",
    "# Kolom penggunaan Mobile Banking\n",
    "mobile_col = 'Bagaimana_frekuensi_penggunaan_layanan_layanan_Bank_berikut___Mobile_Banking'\n",
    "df_mb = df.dropna(subset=[mobile_col]).copy()\n",
    "df_mb[mobile_col] = df_mb[mobile_col].str.strip().str.lower()\n",
    "\n",
    "# Definisikan kategori pengguna aktif\n",
    "aktif_keywords = [\n",
    "    '2-5 kali per bulan',\n",
    "    '6-9 kali per bulan',\n",
    "    '>10 kali per bulan'\n",
    "]\n",
    "\n",
    "# Tandai pengguna aktif\n",
    "pengguna_mb = df_mb[mobile_col].isin(aktif_keywords)\n",
    "\n",
    "# Hitung jumlah pengguna aktif dan total\n",
    "count_mb = pengguna_mb.sum()\n",
    "n_mb = len(df_mb)\n",
    "\n",
    "print(f\"Jumlah data responden (tidak kosong): {n_mb}\")\n",
    "print(f\"Jumlah responden yang menggunakan Mobile Banking: {count_mb}\")\n",
    "\n",
    "# Uji hipotesis: proporsi pengguna aktif > 50%\n",
    "if n_mb == 0 or count_mb == 0:\n",
    "    print(\"Data tidak cukup untuk melakukan uji proporsi.\")\n",
    "else:\n",
    "    stat_mb, pval_mb = proportions_ztest(count_mb, n_mb, value=0.5, alternative='larger')\n",
    "    print(\"\\n=== One-Sample Z-Test: Apakah pengguna aktif Mobile Banking > 50% ===\")\n",
    "    print(f\"Sample proportion: {count_mb}/{n_mb} = {count_mb/n_mb:.3f}\")\n",
    "    print(f\"Z-statistic: {stat_mb:.3f}, p-value: {pval_mb:.4f}\")\n",
    "    \n",
    "    if pval_mb < 0.05:\n",
    "        print(\">> Tolak H0: Proporsi pengguna aktif Mobile Banking > 50% (signifikan)\")\n",
    "    else:\n",
    "        print(\">> Gagal tolak H0: Tidak cukup bukti proporsi > 50%\")\n"
   ]
  },
  {
   "cell_type": "markdown",
   "id": "b2598f8b",
   "metadata": {},
   "source": [
    "One-sample z-test for proportions:: Apakah proporsi responden yang pernah meminjam online < 40%?"
   ]
  },
  {
   "cell_type": "code",
   "execution_count": 17,
   "id": "1b8915e5",
   "metadata": {},
   "outputs": [
    {
     "name": "stdout",
     "output_type": "stream",
     "text": [
      "Jumlah data responden (tidak kosong): 1000\n",
      "Jumlah responden yang pernah melakukan pinjaman online: 94\n",
      "\n",
      "=== One-Sample Z-Test: Proporsi Pinjam Online < 40% ===\n",
      "Sample proportion: 94/1000 = 0.094\n",
      "Z-statistic: -33.158, p-value: 0.0000\n",
      ">> Tolak H0: Proporsi pinjam online < 40% (signifikan pada 5%)\n"
     ]
    }
   ],
   "source": [
    "import pandas as pd\n",
    "from statsmodels.stats.proportion import proportions_ztest\n",
    "\n",
    "# Load data\n",
    "df = pd.read_excel(\"Dataset_Tubes.xlsx\")\n",
    "\n",
    "# ===================== Contoh 2: Proporsi Pinjam Online < 40% =====================\n",
    "pinjaman_col = 'Apakah_Anda_pernah_mengajukan_pinjaman_online_berikut'\n",
    "df_pinjaman = df.dropna(subset=[pinjaman_col]).copy()\n",
    "df_pinjaman[pinjaman_col] = df_pinjaman[pinjaman_col].str.strip().str.lower()\n",
    "\n",
    "# Anggap semua jawaban selain \"tidak pernah menggunakan\" sebagai pernah meminjam\n",
    "pinjam = df_pinjaman[pinjaman_col] != 'tidak pernah menggunakan'\n",
    "\n",
    "count_pinjaman = pinjam.sum()\n",
    "n_pinjaman = len(df_pinjaman)\n",
    "\n",
    "print(f\"Jumlah data responden (tidak kosong): {n_pinjaman}\")\n",
    "print(f\"Jumlah responden yang pernah melakukan pinjaman online: {count_pinjaman}\")\n",
    "\n",
    "# Z-test: apakah proporsi < 0.4\n",
    "if n_pinjaman == 0 or count_pinjaman == 0:\n",
    "    print(\"Data tidak cukup untuk melakukan uji proporsi.\")\n",
    "else:\n",
    "    stat_pj, pval_pj = proportions_ztest(count_pinjaman, n_pinjaman, value=0.4, alternative='smaller')\n",
    "    print(\"\\n=== One-Sample Z-Test: Proporsi Pinjam Online < 40% ===\")\n",
    "    print(f\"Sample proportion: {count_pinjaman}/{n_pinjaman} = {count_pinjaman/n_pinjaman:.3f}\")\n",
    "    print(f\"Z-statistic: {stat_pj:.3f}, p-value: {pval_pj:.4f}\")\n",
    "    if pval_pj < 0.05:\n",
    "        print(\">> Tolak H0: Proporsi pinjam online < 40% (signifikan pada 5%)\")\n",
    "    else:\n",
    "        print(\">> Gagal tolak H0: Tidak cukup bukti proporsi < 40%\")"
   ]
  },
  {
   "cell_type": "markdown",
   "id": "edca2038",
   "metadata": {},
   "source": [
    "Two-sample z-test for differences in proportions:  Apakah proporsi pengguna Mobile Banking berbeda antara laki-laki dan perempuan?"
   ]
  },
  {
   "cell_type": "code",
   "execution_count": 31,
   "id": "f384b402",
   "metadata": {},
   "outputs": [
    {
     "name": "stdout",
     "output_type": "stream",
     "text": [
      "Jumlah responden Laki-laki: 456\n",
      "Jumlah Laki-laki aktif Mobile Banking: 428\n",
      "Jumlah responden Perempuan: 544\n",
      "Jumlah Perempuan aktif Mobile Banking: 520\n",
      "\n",
      "=== Pengguna Aktif Mobile Banking (Laki-laki vs Perempuan) ===\n",
      "Laki-laki: 428/456 = 0.94\n",
      "Perempuan: 520/544 = 0.96\n",
      "Z-stat: -1.226, p-value: 0.2201\n",
      ">> Tidak ada bukti perbedaan signifikan.\n"
     ]
    }
   ],
   "source": [
    "import pandas as pd\n",
    "from statsmodels.stats.proportion import proportions_ztest\n",
    "\n",
    "# Load data\n",
    "df = pd.read_excel(\"Dataset_Tubes.xlsx\")\n",
    "\n",
    "# Normalisasi kolom\n",
    "df.columns = df.columns.str.strip().str.replace('\\n', '_').str.replace(' ', '_')\n",
    "df = df.rename(columns={\n",
    "    'Jenis_kelamin': 'Jenis_Kelamin',\n",
    "    'Bagaimana_frekuensi_penggunaan_layanan_layanan_Bank_berikut___Mobile_Banking': 'Mobile_Banking',\n",
    "    'Apakah_Anda_pernah_mengajukan_pinjaman_online_berikut': 'Pinjam_Online',\n",
    "    'Usia__dalam_tahun': 'Usia'\n",
    "})\n",
    "df['Jenis_Kelamin'] = df['Jenis_Kelamin'].str.strip().str.lower()\n",
    "df['Mobile_Banking'] = df['Mobile_Banking'].astype(str).str.strip().str.lower()\n",
    "df['Pinjam_Online'] = df['Pinjam_Online'].astype(str).str.strip().str.lower()\n",
    "\n",
    "# Anggap pengguna aktif: menjawab 'sering', 'selalu', atau mengandung 'kali'\n",
    "aktif_mb = df['Mobile_Banking'].str.contains('2-5|6-9|>10|sering|selalu')\n",
    "\n",
    "# Buat kelompok gender\n",
    "male = df[df['Jenis_Kelamin'] == 'laki-laki']\n",
    "female = df[df['Jenis_Kelamin'] == 'perempuan']\n",
    "\n",
    "x1 = aktif_mb[male.index].sum()\n",
    "n1 = len(male)\n",
    "\n",
    "x2 = aktif_mb[female.index].sum()\n",
    "n2 = len(female)\n",
    "\n",
    "print(f\"Jumlah responden Laki-laki: {n1}\")\n",
    "print(f\"Jumlah Laki-laki aktif Mobile Banking: {x1}\")\n",
    "print(f\"Jumlah responden Perempuan: {n2}\")\n",
    "print(f\"Jumlah Perempuan aktif Mobile Banking: {x2}\")\n",
    "\n",
    "stat1, pval1 = proportions_ztest([x1, x2], [n1, n2], alternative='two-sided')\n",
    "\n",
    "print(\"\\n=== Pengguna Aktif Mobile Banking (Laki-laki vs Perempuan) ===\")\n",
    "print(f\"Laki-laki: {x1}/{n1} = {x1/n1:.2f}\")\n",
    "print(f\"Perempuan: {x2}/{n2} = {x2/n2:.2f}\")\n",
    "print(f\"Z-stat: {stat1:.3f}, p-value: {pval1:.4f}\")\n",
    "if pval1 < 0.05:\n",
    "    print(\">> Ada perbedaan signifikan antara gender dalam penggunaan Mobile Banking.\")\n",
    "else:\n",
    "    print(\">> Tidak ada bukti perbedaan signifikan.\")"
   ]
  },
  {
   "cell_type": "markdown",
   "id": "4ad0e82a",
   "metadata": {},
   "source": [
    "Two-sample z-test for differences in proportions:  Apakah proporsi peminjam online lebih tinggi di kelompok usia < 35 tahun dibanding ≥ 35 tahun?"
   ]
  },
  {
   "cell_type": "code",
   "execution_count": 30,
   "id": "63597346",
   "metadata": {},
   "outputs": [
    {
     "name": "stdout",
     "output_type": "stream",
     "text": [
      "Jumlah responden <35 tahun: 753\n",
      "Jumlah pernah pinjam online <35 tahun: 73\n",
      "Jumlah responden ≥35 tahun: 247\n",
      "Jumlah pernah pinjam online ≥35 tahun: 21\n",
      "\n",
      "=== Proporsi Pinjam Online (<35 vs ≥35 Tahun) ===\n",
      "<35 tahun: 73/753 = 0.10\n",
      "≥35 tahun: 21/247 = 0.09\n",
      "Z-stat: 0.557, p-value: 0.2887\n",
      ">> Tidak ada bukti proporsi kelompok <35 tahun lebih tinggi.\n"
     ]
    }
   ],
   "source": [
    "import pandas as pd\n",
    "from statsmodels.stats.proportion import proportions_ztest\n",
    "\n",
    "# Load data\n",
    "df = pd.read_excel(\"Dataset_Tubes.xlsx\")\n",
    "\n",
    "# Normalisasi kolom jika belum\n",
    "if 'Pinjam_Online' not in df.columns:\n",
    "    df = df.rename(columns={'Apakah_Anda_pernah_mengajukan_pinjaman_online_berikut': 'Pinjam_Online'})\n",
    "df['Pinjam_Online'] = df['Pinjam_Online'].astype(str).str.strip().str.lower()\n",
    "\n",
    "# Bagi usia menjadi 2 kelompok\n",
    "df['Kelompok_Usia'] = df['Usia__dalam_tahun'].apply(lambda x: '<35' if x < 35 else '≥35')\n",
    "group1 = df[df['Kelompok_Usia'] == '<35']\n",
    "group2 = df[df['Kelompok_Usia'] == '≥35']\n",
    "\n",
    "# Jawaban selain \"tidak pernah menggunakan\" dianggap pernah pinjam\n",
    "x1 = (group1['Pinjam_Online'] != 'tidak pernah menggunakan').sum()\n",
    "n1 = len(group1)\n",
    "\n",
    "x2 = (group2['Pinjam_Online'] != 'tidak pernah menggunakan').sum()\n",
    "n2 = len(group2)\n",
    "\n",
    "print(f\"Jumlah responden <35 tahun: {n1}\")\n",
    "print(f\"Jumlah pernah pinjam online <35 tahun: {x1}\")\n",
    "print(f\"Jumlah responden ≥35 tahun: {n2}\")\n",
    "print(f\"Jumlah pernah pinjam online ≥35 tahun: {x2}\")\n",
    "\n",
    "stat2, pval2 = proportions_ztest([x1, x2], [n1, n2], alternative='larger')\n",
    "\n",
    "print(\"\\n=== Proporsi Pinjam Online (<35 vs ≥35 Tahun) ===\")\n",
    "print(f\"<35 tahun: {x1}/{n1} = {x1/n1:.2f}\")\n",
    "print(f\"≥35 tahun: {x2}/{n2} = {x2/n2:.2f}\")\n",
    "print(f\"Z-stat: {stat2:.3f}, p-value: {pval2:.4f}\")\n",
    "if pval2 < 0.05:\n",
    "    print(\">> Proporsi kelompok <35 tahun lebih tinggi secara signifikan.\")\n",
    "else:\n",
    "    print(\">> Tidak ada bukti proporsi kelompok <35 tahun lebih tinggi.\")"
   ]
  }
 ],
 "metadata": {
  "kernelspec": {
   "display_name": "env",
   "language": "python",
   "name": "python3"
  },
  "language_info": {
   "codemirror_mode": {
    "name": "ipython",
    "version": 3
   },
   "file_extension": ".py",
   "mimetype": "text/x-python",
   "name": "python",
   "nbconvert_exporter": "python",
   "pygments_lexer": "ipython3",
   "version": "3.13.2"
  }
 },
 "nbformat": 4,
 "nbformat_minor": 5
}
